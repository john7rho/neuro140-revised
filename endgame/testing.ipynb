{
 "cells": [
  {
   "cell_type": "code",
   "execution_count": 2,
   "metadata": {},
   "outputs": [],
   "source": [
    "import numpy as np\n",
    "import pandas as pd\n",
    "import matplotlib.pyplot as plt"
   ]
  },
  {
   "cell_type": "code",
   "execution_count": null,
   "metadata": {},
   "outputs": [],
   "source": [
    "from RLC.real_chess import agent, learn, tree\n",
    "from endgame_randnoise_environment import Board\n",
    "from chess.pgn import Game\n",
    "\n",
    "# these are FENS, which are a concise way of representing the board states\n",
    "# 10 common end games were selected for training purposes\n",
    "endgame_fens = [\n",
    "    # King, queen, and three pawns vs king, queen, and three pawns\n",
    "    \"4k3/1p2pp2/8/8/8/8/1P2PP2/4K3 w - - 0 1\",\n",
    "    # King, rook, knight, bishop, and pawn vs king, rook, knight, bishop, and pawn\n",
    "    \"4k3/1prnbp2/8/8/8/8/1PRNBP2/4K3 w - - 0 1\",\n",
    "    # King, two bishops and three pawns vs king, two knights and three pawns\n",
    "    \"4k3/1p1bpp2/8/8/8/8/1P1NNP2/4K3 w - - 0 1\",\n",
    "    # King, two rooks and three pawns vs king, two rooks and three pawns\n",
    "    \"4k3/1p1rrp2/8/8/8/8/1P1RRP2/4K3 w - - 0 1\",\n",
    "    # King, queen, knight, bishop and pawn vs king, queen, knight, bishop and pawn\n",
    "    \"4k3/1pqnbP2/8/8/8/8/1PQNBp2/4K3 w - - 0 1\",\n",
    "    # King, queen, two bishops and pawn vs king, queen, two bishops and pawn\n",
    "    \"4k3/1pqbbP2/8/8/8/8/1PQBBp2/4K3 w - - 0 1\",\n",
    "    # King, queen, two knights and pawn vs king, queen, two knights and pawn\n",
    "    \"4k3/1pqnNP2/8/8/8/8/1PQnnp2/4K3 w - - 0 1\",\n",
    "    # King, queen, rook, bishop, and pawn vs king, queen, rook, bishop, and pawn\n",
    "    \"4k3/1pqrBP2/8/8/8/8/1PQRbp2/4K3 w - - 0 1\",\n",
    "    # King, queen, rook, knight, and pawn vs king, queen, rook, knight, and pawn\n",
    "    \"4k3/1pqrNP2/8/8/8/8/1PQRnp2/4K3 w - - 0 1\",\n",
    "    # King, rook, two knights and pawn vs king, rook, two knights and pawn\n",
    "    \"4k3/1prnNP2/8/8/8/8/1PRNnp2/4K3 w - - 0 1\"\n",
    "]\n",
    "\n",
    "opponent = agent.GreedyAgent()\n",
    "env = Board(opponent, FEN=None, endgame_fens=endgame_fens)\n",
    "# player = agent.Agent(lr=0.0005,network='big')\n",
    "player = agent.load_model('RLC_model_main100k.h5')\n",
    "learner = learn.TD_search(env, player,gamma=0.8,search_time=2)\n",
    "node = tree.Node(learner.env.board, gamma=learner.gamma)\n",
    "player.model.summary()"
   ]
  },
  {
   "cell_type": "code",
   "execution_count": null,
   "metadata": {},
   "outputs": [],
   "source": [
    "learner.env.reset()\n",
    "learner.search_time = 100\n",
    "learner.temperature = 1/3"
   ]
  },
  {
   "cell_type": "code",
   "execution_count": null,
   "metadata": {},
   "outputs": [],
   "source": [
    "learner.play_game(1000, maxiter=20)"
   ]
  },
  {
   "cell_type": "code",
   "execution_count": null,
   "metadata": {},
   "outputs": [],
   "source": [
    "reward_smooth = pd.DataFrame(learner.piece_balance_trace)\n",
    "reward_smooth.rolling(window=100,min_periods=0).mean().plot(figsize=(16,9),title='average piece balance over the last 50 episodes')\n",
    "plt.show()"
   ]
  },
  {
   "cell_type": "code",
   "execution_count": null,
   "metadata": {},
   "outputs": [],
   "source": [
    "reward_smooth = pd.DataFrame(learner.reward_trace)\n",
    "reward_smooth.rolling(window=500,min_periods=0).mean().plot(figsize=(16,9),title='average performance over the last 3 episodes')\n",
    "plt.show()"
   ]
  },
  {
   "cell_type": "code",
   "execution_count": null,
   "metadata": {},
   "outputs": [],
   "source": [
    "pgn = Game.from_board(learner.env.board)\n",
    "with open(\"rlc_pgn_randnoise\", \"w\") as log:\n",
    "    log.write(str(pgn))"
   ]
  }
 ],
 "metadata": {
  "interpreter": {
   "hash": "e472c050fa9c9e780596c3f0a21021d99270ee1e53e472019e9fd81beb6acaa9"
  },
  "kernelspec": {
   "display_name": "Python 3.7.16 64-bit ('neuro140': conda)",
   "language": "python",
   "name": "python3"
  },
  "language_info": {
   "codemirror_mode": {
    "name": "ipython",
    "version": 3
   },
   "file_extension": ".py",
   "mimetype": "text/x-python",
   "name": "python",
   "nbconvert_exporter": "python",
   "pygments_lexer": "ipython3",
   "version": "3.7.16"
  },
  "orig_nbformat": 4
 },
 "nbformat": 4,
 "nbformat_minor": 2
}
