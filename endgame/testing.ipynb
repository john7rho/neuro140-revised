{
 "cells": [
  {
   "cell_type": "code",
   "execution_count": 1,
   "metadata": {},
   "outputs": [
    {
     "name": "stderr",
     "output_type": "stream",
     "text": [
      "Using TensorFlow backend.\n",
      "C:\\Users\\there\\Anaconda3\\envs\\neuro140\\lib\\site-packages\\tensorflow\\python\\framework\\dtypes.py:516: FutureWarning: Passing (type, 1) or '1type' as a synonym of type is deprecated; in a future version of numpy, it will be understood as (type, (1,)) / '(1,)type'.\n",
      "  _np_qint8 = np.dtype([(\"qint8\", np.int8, 1)])\n",
      "C:\\Users\\there\\Anaconda3\\envs\\neuro140\\lib\\site-packages\\tensorflow\\python\\framework\\dtypes.py:517: FutureWarning: Passing (type, 1) or '1type' as a synonym of type is deprecated; in a future version of numpy, it will be understood as (type, (1,)) / '(1,)type'.\n",
      "  _np_quint8 = np.dtype([(\"quint8\", np.uint8, 1)])\n",
      "C:\\Users\\there\\Anaconda3\\envs\\neuro140\\lib\\site-packages\\tensorflow\\python\\framework\\dtypes.py:518: FutureWarning: Passing (type, 1) or '1type' as a synonym of type is deprecated; in a future version of numpy, it will be understood as (type, (1,)) / '(1,)type'.\n",
      "  _np_qint16 = np.dtype([(\"qint16\", np.int16, 1)])\n",
      "C:\\Users\\there\\Anaconda3\\envs\\neuro140\\lib\\site-packages\\tensorflow\\python\\framework\\dtypes.py:519: FutureWarning: Passing (type, 1) or '1type' as a synonym of type is deprecated; in a future version of numpy, it will be understood as (type, (1,)) / '(1,)type'.\n",
      "  _np_quint16 = np.dtype([(\"quint16\", np.uint16, 1)])\n",
      "C:\\Users\\there\\Anaconda3\\envs\\neuro140\\lib\\site-packages\\tensorflow\\python\\framework\\dtypes.py:520: FutureWarning: Passing (type, 1) or '1type' as a synonym of type is deprecated; in a future version of numpy, it will be understood as (type, (1,)) / '(1,)type'.\n",
      "  _np_qint32 = np.dtype([(\"qint32\", np.int32, 1)])\n",
      "C:\\Users\\there\\Anaconda3\\envs\\neuro140\\lib\\site-packages\\tensorflow\\python\\framework\\dtypes.py:525: FutureWarning: Passing (type, 1) or '1type' as a synonym of type is deprecated; in a future version of numpy, it will be understood as (type, (1,)) / '(1,)type'.\n",
      "  np_resource = np.dtype([(\"resource\", np.ubyte, 1)])\n",
      "C:\\Users\\there\\Anaconda3\\envs\\neuro140\\lib\\site-packages\\tensorboard\\compat\\tensorflow_stub\\dtypes.py:541: FutureWarning: Passing (type, 1) or '1type' as a synonym of type is deprecated; in a future version of numpy, it will be understood as (type, (1,)) / '(1,)type'.\n",
      "  _np_qint8 = np.dtype([(\"qint8\", np.int8, 1)])\n",
      "C:\\Users\\there\\Anaconda3\\envs\\neuro140\\lib\\site-packages\\tensorboard\\compat\\tensorflow_stub\\dtypes.py:542: FutureWarning: Passing (type, 1) or '1type' as a synonym of type is deprecated; in a future version of numpy, it will be understood as (type, (1,)) / '(1,)type'.\n",
      "  _np_quint8 = np.dtype([(\"quint8\", np.uint8, 1)])\n",
      "C:\\Users\\there\\Anaconda3\\envs\\neuro140\\lib\\site-packages\\tensorboard\\compat\\tensorflow_stub\\dtypes.py:543: FutureWarning: Passing (type, 1) or '1type' as a synonym of type is deprecated; in a future version of numpy, it will be understood as (type, (1,)) / '(1,)type'.\n",
      "  _np_qint16 = np.dtype([(\"qint16\", np.int16, 1)])\n",
      "C:\\Users\\there\\Anaconda3\\envs\\neuro140\\lib\\site-packages\\tensorboard\\compat\\tensorflow_stub\\dtypes.py:544: FutureWarning: Passing (type, 1) or '1type' as a synonym of type is deprecated; in a future version of numpy, it will be understood as (type, (1,)) / '(1,)type'.\n",
      "  _np_quint16 = np.dtype([(\"quint16\", np.uint16, 1)])\n",
      "C:\\Users\\there\\Anaconda3\\envs\\neuro140\\lib\\site-packages\\tensorboard\\compat\\tensorflow_stub\\dtypes.py:545: FutureWarning: Passing (type, 1) or '1type' as a synonym of type is deprecated; in a future version of numpy, it will be understood as (type, (1,)) / '(1,)type'.\n",
      "  _np_qint32 = np.dtype([(\"qint32\", np.int32, 1)])\n",
      "C:\\Users\\there\\Anaconda3\\envs\\neuro140\\lib\\site-packages\\tensorboard\\compat\\tensorflow_stub\\dtypes.py:550: FutureWarning: Passing (type, 1) or '1type' as a synonym of type is deprecated; in a future version of numpy, it will be understood as (type, (1,)) / '(1,)type'.\n",
      "  np_resource = np.dtype([(\"resource\", np.ubyte, 1)])\n"
     ]
    }
   ],
   "source": [
    "from RLC.real_chess import agent, environment, learn, tree\n",
    "from endgame_environment import Board\n",
    "import chess\n",
    "from chess.pgn import Game"
   ]
  },
  {
   "cell_type": "code",
   "execution_count": 2,
   "metadata": {},
   "outputs": [],
   "source": [
    "from keras.models import load_model"
   ]
  },
  {
   "cell_type": "code",
   "execution_count": null,
   "metadata": {},
   "outputs": [],
   "source": [
    "from RLC.real_chess import agent, environment, learn, tree\n",
    "from endgame_environment import Board\n",
    "import chess\n",
    "from chess.pgn import Game\n",
    "\n",
    "# these are FENS, which are a concise way of representing the board states\n",
    "# 10 common end games were selected for training purposes\n",
    "endgame_fens = [\n",
    "    # King, queen, and three pawns vs king, queen, and three pawns\n",
    "    \"4k3/1p2pp2/8/8/8/8/1P2PP2/4K3 w - - 0 1\",\n",
    "    # King, rook, knight, bishop, and pawn vs king, rook, knight, bishop, and pawn\n",
    "    \"4k3/1prnbp2/8/8/8/8/1PRNBP2/4K3 w - - 0 1\",\n",
    "    # King, two bishops and three pawns vs king, two knights and three pawns\n",
    "    \"4k3/1p1bpp2/8/8/8/8/1P1NNP2/4K3 w - - 0 1\",\n",
    "    # King, two rooks and three pawns vs king, two rooks and three pawns\n",
    "    \"4k3/1p1rrp2/8/8/8/8/1P1RRP2/4K3 w - - 0 1\",\n",
    "    # King, queen, knight, bishop and pawn vs king, queen, knight, bishop and pawn\n",
    "    \"4k3/1pqnbP2/8/8/8/8/1PQNBp2/4K3 w - - 0 1\",\n",
    "    # King, queen, two bishops and pawn vs king, queen, two bishops and pawn\n",
    "    \"4k3/1pqbbP2/8/8/8/8/1PQBBp2/4K3 w - - 0 1\",\n",
    "    # King, queen, two knights and pawn vs king, queen, two knights and pawn\n",
    "    \"4k3/1pqnNP2/8/8/8/8/1PQnnp2/4K3 w - - 0 1\",\n",
    "    # King, queen, rook, bishop, and pawn vs king, queen, rook, bishop, and pawn\n",
    "    \"4k3/1pqrBP2/8/8/8/8/1PQRbp2/4K3 w - - 0 1\",\n",
    "    # King, queen, rook, knight, and pawn vs king, queen, rook, knight, and pawn\n",
    "    \"4k3/1pqrNP2/8/8/8/8/1PQRnp2/4K3 w - - 0 1\",\n",
    "    # King, rook, two knights and pawn vs king, rook, two knights and pawn\n",
    "    \"4k3/1prnNP2/8/8/8/8/1PRNnp2/4K3 w - - 0 1\"\n",
    "]\n",
    "\n",
    "opponent = agent.GreedyAgent()\n",
    "env = Board(opponent, FEN=None, endgame_fens=endgame_fens)\n",
    "player = agent.Agent(lr=0.0005,network='big')\n",
    "learner = learn.TD_search(env, player,gamma=0.9,search_time=0.9)\n",
    "node = tree.Node(learner.env.board, gamma=learner.gamma)\n",
    "player.model.summary()"
   ]
  },
  {
   "cell_type": "code",
   "execution_count": null,
   "metadata": {},
   "outputs": [],
   "source": [
    "learner.env.reset()\n",
    "learner.search_time = 100\n",
    "learner.temperature = 1/3"
   ]
  },
  {
   "cell_type": "code",
   "execution_count": null,
   "metadata": {},
   "outputs": [],
   "source": [
    "learner.play_game(1000, maxiter=20)"
   ]
  },
  {
   "cell_type": "code",
   "execution_count": null,
   "metadata": {},
   "outputs": [],
   "source": [
    "reward_smooth = pd.DataFrame(learner.piece_balance_trace)\n",
    "reward_smooth.rolling(window=50,min_periods=50).mean().plot(figsize=(16,9),title='average piece balance over the last 50 episodes')\n",
    "plt.show()"
   ]
  }
 ],
 "metadata": {
  "interpreter": {
   "hash": "e472c050fa9c9e780596c3f0a21021d99270ee1e53e472019e9fd81beb6acaa9"
  },
  "kernelspec": {
   "display_name": "Python 3.7.16 64-bit ('neuro140': conda)",
   "language": "python",
   "name": "python3"
  },
  "language_info": {
   "codemirror_mode": {
    "name": "ipython",
    "version": 3
   },
   "file_extension": ".py",
   "mimetype": "text/x-python",
   "name": "python",
   "nbconvert_exporter": "python",
   "pygments_lexer": "ipython3",
   "version": "3.7.16"
  },
  "orig_nbformat": 4
 },
 "nbformat": 4,
 "nbformat_minor": 2
}
